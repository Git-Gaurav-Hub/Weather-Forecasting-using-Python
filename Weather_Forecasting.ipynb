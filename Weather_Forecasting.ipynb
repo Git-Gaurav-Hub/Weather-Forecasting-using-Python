{
 "cells": [
  {
   "cell_type": "code",
   "execution_count": 1,
   "id": "da6883cd",
   "metadata": {},
   "outputs": [],
   "source": [
    "import requests\n",
    "import json"
   ]
  },
  {
   "cell_type": "code",
   "execution_count": 2,
   "id": "fdfff115",
   "metadata": {},
   "outputs": [
    {
     "name": "stdout",
     "output_type": "stream",
     "text": [
      "Enter city name : Faridabad\n"
     ]
    }
   ],
   "source": [
    "city= input('Enter city name : ')"
   ]
  },
  {
   "cell_type": "code",
   "execution_count": 3,
   "id": "a1a0c4d4",
   "metadata": {
    "scrolled": true
   },
   "outputs": [],
   "source": [
    "url='http://api.weatherapi.com/v1/current.json?key=0ab0bac593484aea92453350222512&q='+ city"
   ]
  },
  {
   "cell_type": "code",
   "execution_count": 4,
   "id": "888a9922",
   "metadata": {},
   "outputs": [],
   "source": [
    "df=requests.get(url)"
   ]
  },
  {
   "cell_type": "code",
   "execution_count": 5,
   "id": "bebdf6e2",
   "metadata": {},
   "outputs": [
    {
     "name": "stdout",
     "output_type": "stream",
     "text": [
      "{'location': {'name': 'Faridabad', 'region': 'Haryana', 'country': 'India', 'lat': 28.43, 'lon': 77.32, 'tz_id': 'Asia/Kolkata', 'localtime_epoch': 1689837039, 'localtime': '2023-07-20 12:40'}, 'current': {'last_updated_epoch': 1689836400, 'last_updated': '2023-07-20 12:30', 'temp_c': 35.0, 'temp_f': 95.0, 'is_day': 1, 'condition': {'text': 'Mist', 'icon': '//cdn.weatherapi.com/weather/64x64/day/143.png', 'code': 1030}, 'wind_mph': 4.3, 'wind_kph': 6.8, 'wind_degree': 110, 'wind_dir': 'ESE', 'pressure_mb': 1002.0, 'pressure_in': 29.59, 'precip_mm': 0.0, 'precip_in': 0.0, 'humidity': 56, 'cloud': 75, 'feelslike_c': 37.9, 'feelslike_f': 100.3, 'vis_km': 5.0, 'vis_miles': 3.0, 'uv': 9.0, 'gust_mph': 4.5, 'gust_kph': 7.2}}\n"
     ]
    }
   ],
   "source": [
    "data=json.loads(df.content)\n",
    "print(data)"
   ]
  },
  {
   "cell_type": "code",
   "execution_count": 6,
   "id": "4b4cf57f",
   "metadata": {},
   "outputs": [
    {
     "name": "stdout",
     "output_type": "stream",
     "text": [
      "35.0\n"
     ]
    }
   ],
   "source": [
    "print(data['current']['temp_c'])"
   ]
  },
  {
   "cell_type": "code",
   "execution_count": null,
   "id": "ed244741",
   "metadata": {},
   "outputs": [],
   "source": []
  }
 ],
 "metadata": {
  "kernelspec": {
   "display_name": "Python 3 (ipykernel)",
   "language": "python",
   "name": "python3"
  },
  "language_info": {
   "codemirror_mode": {
    "name": "ipython",
    "version": 3
   },
   "file_extension": ".py",
   "mimetype": "text/x-python",
   "name": "python",
   "nbconvert_exporter": "python",
   "pygments_lexer": "ipython3",
   "version": "3.11.4"
  }
 },
 "nbformat": 4,
 "nbformat_minor": 5
}
